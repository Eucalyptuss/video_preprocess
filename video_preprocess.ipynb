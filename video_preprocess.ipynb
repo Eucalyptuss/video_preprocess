{
 "cells": [
  {
   "cell_type": "markdown",
   "id": "ca986cd7",
   "metadata": {},
   "source": [
    "## Get File List"
   ]
  },
  {
   "cell_type": "code",
   "execution_count": 1,
   "id": "af47285b",
   "metadata": {},
   "outputs": [],
   "source": [
    "import os\n",
    "import numpy as np\n",
    "import cv2\n",
    "from moviepy.editor import VideoFileClip\n",
    "from time import sleep\n",
    "import math\n",
    "from moviepy.video.io.ffmpeg_tools import ffmpeg_extract_subclip\n",
    "from hurry.filesize import size, iec, si"
   ]
  },
  {
   "cell_type": "code",
   "execution_count": 2,
   "id": "6bc761db",
   "metadata": {},
   "outputs": [],
   "source": [
    "list_sample_dir = os.listdir('./sample_video/')"
   ]
  },
  {
   "cell_type": "code",
   "execution_count": null,
   "id": "6fcc2060",
   "metadata": {},
   "outputs": [],
   "source": [
    "list_sample_dir"
   ]
  },
  {
   "cell_type": "code",
   "execution_count": 4,
   "id": "08e90c5e",
   "metadata": {},
   "outputs": [],
   "source": [
    "list_files = []\n",
    "\n",
    "for idx, col in enumerate(list_sample_dir):\n",
    "    buffer = './sample_video/'+col\n",
    "#     print(buffer)\n",
    "#     print(os.listdir(buffer))\n",
    "    buffer2 = []\n",
    "    for fn in os.listdir(buffer):\n",
    "        buffer2.append(buffer+'/'+fn)\n",
    "    \n",
    "    list_files.append(buffer2)"
   ]
  },
  {
   "cell_type": "code",
   "execution_count": null,
   "id": "e372c917",
   "metadata": {},
   "outputs": [],
   "source": [
    "list_files"
   ]
  },
  {
   "cell_type": "markdown",
   "id": "7cd56b27",
   "metadata": {},
   "source": [
    "## Get File Size"
   ]
  },
  {
   "cell_type": "code",
   "execution_count": 6,
   "id": "d2b85abb",
   "metadata": {},
   "outputs": [],
   "source": [
    "def convert_size(size_bytes):\n",
    "   if size_bytes == 0:\n",
    "       return \"0B\"\n",
    "   size_name = (\"B\", \"KB\", \"MB\", \"GB\", \"TB\", \"PB\", \"EB\", \"ZB\", \"YB\")\n",
    "   i = int(math.floor(math.log(size_bytes, 1024)))\n",
    "   p = math.pow(1024, i)\n",
    "   s = round(size_bytes / p, 2)\n",
    "   return \"%s %s\" % (s, size_name[i])"
   ]
  },
  {
   "cell_type": "code",
   "execution_count": 7,
   "id": "d6f2873f",
   "metadata": {},
   "outputs": [],
   "source": [
    "def get_file_converted_size(file_name):\n",
    "    return convert_size(os.path.getsize(file_name))"
   ]
  },
  {
   "cell_type": "code",
   "execution_count": 8,
   "id": "670810df",
   "metadata": {},
   "outputs": [],
   "source": [
    "def get_file_size(file_name):\n",
    "    return os.path.getsize(file_name)"
   ]
  },
  {
   "cell_type": "code",
   "execution_count": 9,
   "id": "e9bf4c9c",
   "metadata": {},
   "outputs": [
    {
     "data": {
      "text/plain": [
       "1007705270"
      ]
     },
     "execution_count": 9,
     "metadata": {},
     "output_type": "execute_result"
    }
   ],
   "source": [
    "get_file_size(list_files[0][0])"
   ]
  },
  {
   "cell_type": "code",
   "execution_count": 10,
   "id": "d6858ad2",
   "metadata": {},
   "outputs": [
    {
     "data": {
      "text/plain": [
       "'961.02 MB'"
      ]
     },
     "execution_count": 10,
     "metadata": {},
     "output_type": "execute_result"
    }
   ],
   "source": [
    "get_file_converted_size(list_files[0][0])"
   ]
  },
  {
   "cell_type": "code",
   "execution_count": 11,
   "id": "73a6fb97",
   "metadata": {},
   "outputs": [
    {
     "data": {
      "text/plain": [
       "'961Mi'"
      ]
     },
     "execution_count": 11,
     "metadata": {},
     "output_type": "execute_result"
    }
   ],
   "source": [
    "size(os.path.getsize(list_files[0][0]), system=iec)"
   ]
  },
  {
   "cell_type": "code",
   "execution_count": 12,
   "id": "5fdde1e1",
   "metadata": {},
   "outputs": [
    {
     "data": {
      "text/plain": [
       "'1G'"
      ]
     },
     "execution_count": 12,
     "metadata": {},
     "output_type": "execute_result"
    }
   ],
   "source": [
    "size(os.path.getsize(list_files[0][0]), system=si)"
   ]
  },
  {
   "cell_type": "markdown",
   "id": "549892db",
   "metadata": {},
   "source": [
    "## Get Duration of Video"
   ]
  },
  {
   "cell_type": "code",
   "execution_count": 13,
   "id": "9433335b",
   "metadata": {},
   "outputs": [],
   "source": [
    "def get_duration_of_video(file_name):\n",
    "    cap = cv2.VideoCapture(file_name)\n",
    "    fps = cap.get(cv2.CAP_PROP_FPS)      # OpenCV2 version 2 used \"CV_CAP_PROP_FPS\"\n",
    "    frame_count = int(cap.get(cv2.CAP_PROP_FRAME_COUNT))\n",
    "    duration = frame_count/fps\n",
    "\n",
    "    print('fps = ' + str(fps))\n",
    "    print('number of frames = ' + str(frame_count))\n",
    "    print('duration (S) = ' + str(duration))\n",
    "    minutes = int(duration/60)\n",
    "    seconds = duration%60\n",
    "    print('duration (M:S) = ' + str(minutes) + ':' + str(seconds))\n",
    "\n",
    "    cap.release()\n",
    "    return fps, frame_count, duration, minutes, seconds"
   ]
  },
  {
   "cell_type": "markdown",
   "id": "fe298826",
   "metadata": {},
   "source": [
    "## Play Video"
   ]
  },
  {
   "cell_type": "code",
   "execution_count": 14,
   "id": "90662843",
   "metadata": {},
   "outputs": [],
   "source": [
    "full_video = list_files[0][1]"
   ]
  },
  {
   "cell_type": "code",
   "execution_count": 15,
   "id": "0197b4c8",
   "metadata": {},
   "outputs": [],
   "source": [
    "cap = cv2.VideoCapture(full_video)\n",
    "\n",
    "while(cap.isOpened()):\n",
    "    ret, frame = cap.read()\n",
    "    if ret == True:\n",
    "        gray = cv2.cvtColor(frame, cv2.COLOR_BGR2GRAY)\n",
    "        RGB_img = cv2.cvtColor(frame, cv2.COLOR_BGR2RGB)\n",
    "        imC = cv2.applyColorMap(frame, cv2.COLORMAP_JET)\n",
    "        oriC = cv2.cvtColor(frame,0)\n",
    "        cv2.imshow('frame', oriC)\n",
    "        # & 0xFF is required for a 64-bit system\n",
    "        if cv2.waitKey(1) & 0xFF == ord('q'):\n",
    "            break\n",
    "    else:\n",
    "        break\n",
    "        \n",
    "cap.release()\n",
    "cv2.destroyAllWindows()"
   ]
  },
  {
   "cell_type": "markdown",
   "id": "f9fb3b4e",
   "metadata": {},
   "source": [
    "## Split Video"
   ]
  },
  {
   "cell_type": "code",
   "execution_count": 16,
   "id": "0fdb43df",
   "metadata": {},
   "outputs": [],
   "source": [
    "def split_video_by_time(file_name, split_value=120, result_dic='./result_video/'): #split_value_unit = sec[s]\n",
    "    list_time_information_video = list(get_duration_of_video(file_name))\n",
    "    num_of_files = int(list_time_information_video[2]) // split_value + 1\n",
    "    print('num_of_files: ', num_of_files)\n",
    "\n",
    "    times = []\n",
    "    for idx in range(num_of_files):\n",
    "        times.append(str(idx*split_value) + '-' + str((idx+1)*split_value))\n",
    "        \n",
    "    if not os.path.isdir(result_dic):\n",
    "        os.mkdir(result_dic)\n",
    "\n",
    "    for time in times:\n",
    "        starttime = int(time.split(\"-\")[0])\n",
    "        endtime = int(time.split(\"-\")[1])\n",
    "        ffmpeg_extract_subclip(file_name, starttime, endtime, targetname=result_dic+ str(file_name.split('/')[-1].split('.')[0]) + '_' +str(times.index(time)+1)+\".mp4\")\n"
   ]
  },
  {
   "cell_type": "code",
   "execution_count": 17,
   "id": "8a72c5d1",
   "metadata": {},
   "outputs": [
    {
     "name": "stdout",
     "output_type": "stream",
     "text": [
      "fps = 29.97002997002997\n",
      "number of frames = 16462\n",
      "duration (S) = 549.2820666666667\n",
      "duration (M:S) = 9:9.282066666666651\n",
      "num_of_files:  10\n",
      "Moviepy - Running:\n",
      ">>> \"+ \" \".join(cmd)\n",
      "Moviepy - Command successful\n",
      "Moviepy - Running:\n",
      ">>> \"+ \" \".join(cmd)\n",
      "Moviepy - Command successful\n",
      "Moviepy - Running:\n",
      ">>> \"+ \" \".join(cmd)\n",
      "Moviepy - Command successful\n",
      "Moviepy - Running:\n",
      ">>> \"+ \" \".join(cmd)\n",
      "Moviepy - Command successful\n",
      "Moviepy - Running:\n",
      ">>> \"+ \" \".join(cmd)\n",
      "Moviepy - Command successful\n",
      "Moviepy - Running:\n",
      ">>> \"+ \" \".join(cmd)\n",
      "Moviepy - Command successful\n",
      "Moviepy - Running:\n",
      ">>> \"+ \" \".join(cmd)\n",
      "Moviepy - Command successful\n",
      "Moviepy - Running:\n",
      ">>> \"+ \" \".join(cmd)\n",
      "Moviepy - Command successful\n",
      "Moviepy - Running:\n",
      ">>> \"+ \" \".join(cmd)\n",
      "Moviepy - Command successful\n",
      "Moviepy - Running:\n",
      ">>> \"+ \" \".join(cmd)\n",
      "Moviepy - Command successful\n"
     ]
    }
   ],
   "source": [
    "split_video_by_time(list_files[0][1], split_value=60)"
   ]
  },
  {
   "cell_type": "code",
   "execution_count": null,
   "id": "52f6032d",
   "metadata": {},
   "outputs": [],
   "source": []
  },
  {
   "cell_type": "code",
   "execution_count": null,
   "id": "80a7f5a7",
   "metadata": {},
   "outputs": [],
   "source": []
  },
  {
   "cell_type": "code",
   "execution_count": null,
   "id": "cb8e608a",
   "metadata": {},
   "outputs": [],
   "source": []
  },
  {
   "cell_type": "code",
   "execution_count": null,
   "id": "5f94ac6d",
   "metadata": {},
   "outputs": [],
   "source": []
  },
  {
   "cell_type": "code",
   "execution_count": null,
   "id": "6b507f22",
   "metadata": {},
   "outputs": [],
   "source": []
  },
  {
   "cell_type": "code",
   "execution_count": null,
   "id": "7f7ed67f",
   "metadata": {},
   "outputs": [],
   "source": []
  },
  {
   "cell_type": "code",
   "execution_count": null,
   "id": "ba7bd638",
   "metadata": {},
   "outputs": [],
   "source": []
  }
 ],
 "metadata": {
  "kernelspec": {
   "display_name": "Python 3",
   "language": "python",
   "name": "python3"
  },
  "language_info": {
   "codemirror_mode": {
    "name": "ipython",
    "version": 3
   },
   "file_extension": ".py",
   "mimetype": "text/x-python",
   "name": "python",
   "nbconvert_exporter": "python",
   "pygments_lexer": "ipython3",
   "version": "3.8.8"
  }
 },
 "nbformat": 4,
 "nbformat_minor": 5
}
