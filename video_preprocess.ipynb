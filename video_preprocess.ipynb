{
 "cells": [
  {
   "cell_type": "markdown",
   "id": "540a29c3",
   "metadata": {},
   "source": [
    "## Get File List"
   ]
  },
  {
   "cell_type": "code",
   "execution_count": 1,
   "id": "7698dd3e",
   "metadata": {},
   "outputs": [],
   "source": [
    "import os\n",
    "import numpy as np\n",
    "import cv2\n",
    "from moviepy.editor import VideoFileClip\n",
    "from time import sleep\n",
    "import math\n",
    "from moviepy.video.io.ffmpeg_tools import ffmpeg_extract_subclip"
   ]
  },
  {
   "cell_type": "code",
   "execution_count": 2,
   "id": "61791eae",
   "metadata": {},
   "outputs": [],
   "source": [
    "list_sample_dir = os.listdir('./sample_video/')"
   ]
  },
  {
   "cell_type": "code",
   "execution_count": null,
   "id": "ac5864f0",
   "metadata": {},
   "outputs": [],
   "source": [
    "list_sample_dir"
   ]
  },
  {
   "cell_type": "code",
   "execution_count": 4,
   "id": "aa843ddf",
   "metadata": {},
   "outputs": [],
   "source": [
    "list_files = []\n",
    "\n",
    "for idx, col in enumerate(list_sample_dir):\n",
    "    buffer = './sample_video/'+col\n",
    "#     print(buffer)\n",
    "#     print(os.listdir(buffer))\n",
    "    buffer2 = []\n",
    "    for fn in os.listdir(buffer):\n",
    "        buffer2.append(buffer+'/'+fn)\n",
    "    \n",
    "    list_files.append(buffer2)"
   ]
  },
  {
   "cell_type": "code",
   "execution_count": null,
   "id": "39b2c2ff",
   "metadata": {},
   "outputs": [],
   "source": [
    "list_files"
   ]
  },
  {
   "cell_type": "markdown",
   "id": "c10827f6",
   "metadata": {},
   "source": [
    "## Get File Size"
   ]
  },
  {
   "cell_type": "code",
   "execution_count": 6,
   "id": "c6af7c62",
   "metadata": {},
   "outputs": [],
   "source": [
    "\n",
    "def convert_size(size_bytes):\n",
    "   if size_bytes == 0:\n",
    "       return \"0B\"\n",
    "   size_name = (\"B\", \"KB\", \"MB\", \"GB\", \"TB\", \"PB\", \"EB\", \"ZB\", \"YB\")\n",
    "   i = int(math.floor(math.log(size_bytes, 1024)))\n",
    "   p = math.pow(1024, i)\n",
    "   s = round(size_bytes / p, 2)\n",
    "   return \"%s %s\" % (s, size_name[i])"
   ]
  },
  {
   "cell_type": "code",
   "execution_count": 7,
   "id": "3bf68042",
   "metadata": {},
   "outputs": [
    {
     "data": {
      "text/plain": [
       "'961.02 MB'"
      ]
     },
     "execution_count": 7,
     "metadata": {},
     "output_type": "execute_result"
    }
   ],
   "source": [
    "convert_size(os.path.getsize(list_files[0][0]))"
   ]
  },
  {
   "cell_type": "code",
   "execution_count": 8,
   "id": "122de7fa",
   "metadata": {},
   "outputs": [],
   "source": [
    "from hurry.filesize import size, iec, si"
   ]
  },
  {
   "cell_type": "code",
   "execution_count": 9,
   "id": "3ca8913a",
   "metadata": {},
   "outputs": [
    {
     "data": {
      "text/plain": [
       "'961Mi'"
      ]
     },
     "execution_count": 9,
     "metadata": {},
     "output_type": "execute_result"
    }
   ],
   "source": [
    "size(os.path.getsize(list_files[0][0]), system=iec)"
   ]
  },
  {
   "cell_type": "code",
   "execution_count": 10,
   "id": "4a10fb04",
   "metadata": {},
   "outputs": [
    {
     "data": {
      "text/plain": [
       "'1G'"
      ]
     },
     "execution_count": 10,
     "metadata": {},
     "output_type": "execute_result"
    }
   ],
   "source": [
    "size(os.path.getsize(list_files[0][0]), system=si)"
   ]
  },
  {
   "cell_type": "markdown",
   "id": "355905eb",
   "metadata": {},
   "source": [
    "## Get Duration of Video"
   ]
  },
  {
   "cell_type": "code",
   "execution_count": 11,
   "id": "cae5c6c8",
   "metadata": {},
   "outputs": [
    {
     "name": "stdout",
     "output_type": "stream",
     "text": [
      "fps = 29.97002997002997\n",
      "number of frames = 6045\n",
      "duration (S) = 201.7015\n",
      "duration (M:S) = 3:21.70150000000001\n"
     ]
    }
   ],
   "source": [
    "cap = cv2.VideoCapture(list_files[0][0])\n",
    "fps = cap.get(cv2.CAP_PROP_FPS)      # OpenCV2 version 2 used \"CV_CAP_PROP_FPS\"\n",
    "frame_count = int(cap.get(cv2.CAP_PROP_FRAME_COUNT))\n",
    "duration = frame_count/fps\n",
    "\n",
    "print('fps = ' + str(fps))\n",
    "print('number of frames = ' + str(frame_count))\n",
    "print('duration (S) = ' + str(duration))\n",
    "minutes = int(duration/60)\n",
    "seconds = duration%60\n",
    "print('duration (M:S) = ' + str(minutes) + ':' + str(seconds))\n",
    "\n",
    "cap.release()"
   ]
  },
  {
   "cell_type": "code",
   "execution_count": 12,
   "id": "68017c3e",
   "metadata": {},
   "outputs": [],
   "source": [
    "def get_duration_of_video(file_name):\n",
    "    cap = cv2.VideoCapture(file_name)\n",
    "    fps = cap.get(cv2.CAP_PROP_FPS)      # OpenCV2 version 2 used \"CV_CAP_PROP_FPS\"\n",
    "    frame_count = int(cap.get(cv2.CAP_PROP_FRAME_COUNT))\n",
    "    duration = frame_count/fps\n",
    "\n",
    "    print('fps = ' + str(fps))\n",
    "    print('number of frames = ' + str(frame_count))\n",
    "    print('duration (S) = ' + str(duration))\n",
    "    minutes = int(duration/60)\n",
    "    seconds = duration%60\n",
    "    print('duration (M:S) = ' + str(minutes) + ':' + str(seconds))\n",
    "\n",
    "    cap.release()\n",
    "    return fps, frame_count, duration, minutes, seconds"
   ]
  },
  {
   "cell_type": "markdown",
   "id": "5f81e92d",
   "metadata": {},
   "source": [
    "## Play Video"
   ]
  },
  {
   "cell_type": "code",
   "execution_count": 13,
   "id": "6d7c085f",
   "metadata": {},
   "outputs": [],
   "source": [
    "full_video = list_files[0][1]"
   ]
  },
  {
   "cell_type": "code",
   "execution_count": 14,
   "id": "fbd814b4",
   "metadata": {},
   "outputs": [],
   "source": [
    "cap = cv2.VideoCapture(full_video)\n",
    "\n",
    "while(cap.isOpened()):\n",
    "    ret, frame = cap.read()\n",
    "    if ret == True:\n",
    "        gray = cv2.cvtColor(frame, cv2.COLOR_BGR2GRAY)\n",
    "        RGB_img = cv2.cvtColor(frame, cv2.COLOR_BGR2RGB)\n",
    "        imC = cv2.applyColorMap(frame, cv2.COLORMAP_JET)\n",
    "        oriC = cv2.cvtColor(frame,0)\n",
    "        cv2.imshow('frame', oriC)\n",
    "        # & 0xFF is required for a 64-bit system\n",
    "        if cv2.waitKey(1) & 0xFF == ord('q'):\n",
    "            break\n",
    "    else:\n",
    "        break\n",
    "        \n",
    "cap.release()\n",
    "cv2.destroyAllWindows()"
   ]
  },
  {
   "cell_type": "code",
   "execution_count": null,
   "id": "ad173062",
   "metadata": {},
   "outputs": [],
   "source": []
  },
  {
   "cell_type": "markdown",
   "id": "4be7a5d3",
   "metadata": {},
   "source": [
    "## Split Video"
   ]
  },
  {
   "cell_type": "code",
   "execution_count": 15,
   "id": "87b61b1a",
   "metadata": {},
   "outputs": [
    {
     "name": "stdout",
     "output_type": "stream",
     "text": [
      "fps = 29.97002997002997\n",
      "number of frames = 16462\n",
      "duration (S) = 549.2820666666667\n",
      "duration (M:S) = 9:9.282066666666651\n"
     ]
    }
   ],
   "source": [
    "list_time_information_video = list(get_duration_of_video(full_video))\n",
    "num_of_files = list_time_information_video[3] // 2 + 1\n",
    "# print(num_of_files)\n",
    "\n",
    "list_time = []\n",
    "for idx in range(num_of_files):\n",
    "    list_time.append(str(idx*120) + '-' + str((idx+1)*120))\n",
    "\n",
    "f = open('times.txt', 'w')\n",
    "for element in list_time:\n",
    "    f.write(element + '\\n')\n",
    "f.close()\n"
   ]
  },
  {
   "cell_type": "code",
   "execution_count": 16,
   "id": "0c564519",
   "metadata": {},
   "outputs": [
    {
     "name": "stdout",
     "output_type": "stream",
     "text": [
      "0-120\n",
      "120-240\n",
      "240-360\n",
      "360-480\n",
      "480-600\n",
      "\n"
     ]
    }
   ],
   "source": [
    "f = open('times.txt', 'r')\n",
    "print(f.read())\n",
    "f.close()"
   ]
  },
  {
   "cell_type": "code",
   "execution_count": 17,
   "id": "d365c959",
   "metadata": {},
   "outputs": [
    {
     "name": "stdout",
     "output_type": "stream",
     "text": [
      "['0-120', '120-240', '240-360', '360-480', '480-600']\n",
      "Moviepy - Running:\n",
      ">>> \"+ \" \".join(cmd)\n",
      "Moviepy - Command successful\n",
      "Moviepy - Running:\n",
      ">>> \"+ \" \".join(cmd)\n",
      "Moviepy - Command successful\n",
      "Moviepy - Running:\n",
      ">>> \"+ \" \".join(cmd)\n",
      "Moviepy - Command successful\n",
      "Moviepy - Running:\n",
      ">>> \"+ \" \".join(cmd)\n",
      "Moviepy - Command successful\n",
      "Moviepy - Running:\n",
      ">>> \"+ \" \".join(cmd)\n",
      "Moviepy - Command successful\n"
     ]
    }
   ],
   "source": [
    "# Replace the filename below.\n",
    "required_video_file = full_video\n",
    "\n",
    "with open(\"times.txt\") as f:\n",
    "    times = f.readlines()\n",
    "\n",
    "\n",
    "times = [x.strip() for x in times] \n",
    "print(times)\n",
    "\n",
    "for time in times:\n",
    "    starttime = int(time.split(\"-\")[0])\n",
    "    endtime = int(time.split(\"-\")[1])\n",
    "    ffmpeg_extract_subclip(required_video_file, starttime, endtime, targetname='./result_video/'+ str(full_video.split('/')[-1].split('.')[0]) + '_' +str(times.index(time)+1)+\".mp4\")"
   ]
  },
  {
   "cell_type": "code",
   "execution_count": null,
   "id": "20b0ffe0",
   "metadata": {},
   "outputs": [],
   "source": []
  },
  {
   "cell_type": "code",
   "execution_count": null,
   "id": "2922b38f",
   "metadata": {},
   "outputs": [],
   "source": []
  },
  {
   "cell_type": "code",
   "execution_count": null,
   "id": "f8d8ee36",
   "metadata": {},
   "outputs": [],
   "source": []
  },
  {
   "cell_type": "code",
   "execution_count": null,
   "id": "db1ad3b7",
   "metadata": {},
   "outputs": [],
   "source": []
  },
  {
   "cell_type": "code",
   "execution_count": null,
   "id": "8642a749",
   "metadata": {},
   "outputs": [],
   "source": []
  },
  {
   "cell_type": "code",
   "execution_count": null,
   "id": "e07bd18e",
   "metadata": {},
   "outputs": [],
   "source": []
  },
  {
   "cell_type": "code",
   "execution_count": null,
   "id": "77587d5d",
   "metadata": {},
   "outputs": [],
   "source": []
  }
 ],
 "metadata": {
  "kernelspec": {
   "display_name": "Python 3",
   "language": "python",
   "name": "python3"
  },
  "language_info": {
   "codemirror_mode": {
    "name": "ipython",
    "version": 3
   },
   "file_extension": ".py",
   "mimetype": "text/x-python",
   "name": "python",
   "nbconvert_exporter": "python",
   "pygments_lexer": "ipython3",
   "version": "3.8.8"
  }
 },
 "nbformat": 4,
 "nbformat_minor": 5
}
